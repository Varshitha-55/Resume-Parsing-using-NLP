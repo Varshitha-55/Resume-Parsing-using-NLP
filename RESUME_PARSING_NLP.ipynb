{
  "nbformat": 4,
  "nbformat_minor": 0,
  "metadata": {
    "colab": {
      "provenance": [],
      "gpuType": "T4",
      "include_colab_link": true
    },
    "kernelspec": {
      "name": "python3",
      "display_name": "Python 3"
    },
    "language_info": {
      "name": "python"
    },
    "accelerator": "GPU"
  },
  "cells": [
    {
      "cell_type": "markdown",
      "metadata": {
        "id": "view-in-github",
        "colab_type": "text"
      },
      "source": [
        "<a href=\"https://colab.research.google.com/github/Varshitha-55/Resume-Parsing-using-NLP/blob/main/RESUME_PARSING_NLP.ipynb\" target=\"_parent\"><img src=\"https://colab.research.google.com/assets/colab-badge.svg\" alt=\"Open In Colab\"/></a>"
      ]
    },
    {
      "cell_type": "code",
      "execution_count": null,
      "metadata": {
        "id": "3eCakovbHZSQ"
      },
      "outputs": [],
      "source": [
        "import numpy as np\n",
        "import pandas as pd\n",
        "import matplotlib.pyplot as plt"
      ]
    },
    {
      "cell_type": "code",
      "source": [
        "df = pd.read_csv('new_dataset.csv')"
      ],
      "metadata": {
        "id": "MDyYgWkMH5M6"
      },
      "execution_count": null,
      "outputs": []
    },
    {
      "cell_type": "code",
      "source": [
        "df.head()"
      ],
      "metadata": {
        "id": "p6t8WrIxH9bY",
        "colab": {
          "base_uri": "https://localhost:8080/",
          "height": 206
        },
        "outputId": "6aa6d0aa-3430-47af-d799-5c0a2e7b3bf4"
      },
      "execution_count": null,
      "outputs": [
        {
          "output_type": "execute_result",
          "data": {
            "text/plain": [
              "  Category                                             Resume\n",
              "0       HR  hr administrator marketing associate hr admini...\n",
              "1       HR  hr specialist hr operations summary media prof...\n",
              "2       HR  hr director summary years experience recruitin...\n",
              "3       HR  hr specialist summary dedicated driven dynamic...\n",
              "4       HR  hr manager skill highlights hr skills hr depar..."
            ],
            "text/html": [
              "\n",
              "  <div id=\"df-32eb7522-3f44-419c-95d8-394b0eecceac\" class=\"colab-df-container\">\n",
              "    <div>\n",
              "<style scoped>\n",
              "    .dataframe tbody tr th:only-of-type {\n",
              "        vertical-align: middle;\n",
              "    }\n",
              "\n",
              "    .dataframe tbody tr th {\n",
              "        vertical-align: top;\n",
              "    }\n",
              "\n",
              "    .dataframe thead th {\n",
              "        text-align: right;\n",
              "    }\n",
              "</style>\n",
              "<table border=\"1\" class=\"dataframe\">\n",
              "  <thead>\n",
              "    <tr style=\"text-align: right;\">\n",
              "      <th></th>\n",
              "      <th>Category</th>\n",
              "      <th>Resume</th>\n",
              "    </tr>\n",
              "  </thead>\n",
              "  <tbody>\n",
              "    <tr>\n",
              "      <th>0</th>\n",
              "      <td>HR</td>\n",
              "      <td>hr administrator marketing associate hr admini...</td>\n",
              "    </tr>\n",
              "    <tr>\n",
              "      <th>1</th>\n",
              "      <td>HR</td>\n",
              "      <td>hr specialist hr operations summary media prof...</td>\n",
              "    </tr>\n",
              "    <tr>\n",
              "      <th>2</th>\n",
              "      <td>HR</td>\n",
              "      <td>hr director summary years experience recruitin...</td>\n",
              "    </tr>\n",
              "    <tr>\n",
              "      <th>3</th>\n",
              "      <td>HR</td>\n",
              "      <td>hr specialist summary dedicated driven dynamic...</td>\n",
              "    </tr>\n",
              "    <tr>\n",
              "      <th>4</th>\n",
              "      <td>HR</td>\n",
              "      <td>hr manager skill highlights hr skills hr depar...</td>\n",
              "    </tr>\n",
              "  </tbody>\n",
              "</table>\n",
              "</div>\n",
              "    <div class=\"colab-df-buttons\">\n",
              "\n",
              "  <div class=\"colab-df-container\">\n",
              "    <button class=\"colab-df-convert\" onclick=\"convertToInteractive('df-32eb7522-3f44-419c-95d8-394b0eecceac')\"\n",
              "            title=\"Convert this dataframe to an interactive table.\"\n",
              "            style=\"display:none;\">\n",
              "\n",
              "  <svg xmlns=\"http://www.w3.org/2000/svg\" height=\"24px\" viewBox=\"0 -960 960 960\">\n",
              "    <path d=\"M120-120v-720h720v720H120Zm60-500h600v-160H180v160Zm220 220h160v-160H400v160Zm0 220h160v-160H400v160ZM180-400h160v-160H180v160Zm440 0h160v-160H620v160ZM180-180h160v-160H180v160Zm440 0h160v-160H620v160Z\"/>\n",
              "  </svg>\n",
              "    </button>\n",
              "\n",
              "  <style>\n",
              "    .colab-df-container {\n",
              "      display:flex;\n",
              "      gap: 12px;\n",
              "    }\n",
              "\n",
              "    .colab-df-convert {\n",
              "      background-color: #E8F0FE;\n",
              "      border: none;\n",
              "      border-radius: 50%;\n",
              "      cursor: pointer;\n",
              "      display: none;\n",
              "      fill: #1967D2;\n",
              "      height: 32px;\n",
              "      padding: 0 0 0 0;\n",
              "      width: 32px;\n",
              "    }\n",
              "\n",
              "    .colab-df-convert:hover {\n",
              "      background-color: #E2EBFA;\n",
              "      box-shadow: 0px 1px 2px rgba(60, 64, 67, 0.3), 0px 1px 3px 1px rgba(60, 64, 67, 0.15);\n",
              "      fill: #174EA6;\n",
              "    }\n",
              "\n",
              "    .colab-df-buttons div {\n",
              "      margin-bottom: 4px;\n",
              "    }\n",
              "\n",
              "    [theme=dark] .colab-df-convert {\n",
              "      background-color: #3B4455;\n",
              "      fill: #D2E3FC;\n",
              "    }\n",
              "\n",
              "    [theme=dark] .colab-df-convert:hover {\n",
              "      background-color: #434B5C;\n",
              "      box-shadow: 0px 1px 3px 1px rgba(0, 0, 0, 0.15);\n",
              "      filter: drop-shadow(0px 1px 2px rgba(0, 0, 0, 0.3));\n",
              "      fill: #FFFFFF;\n",
              "    }\n",
              "  </style>\n",
              "\n",
              "    <script>\n",
              "      const buttonEl =\n",
              "        document.querySelector('#df-32eb7522-3f44-419c-95d8-394b0eecceac button.colab-df-convert');\n",
              "      buttonEl.style.display =\n",
              "        google.colab.kernel.accessAllowed ? 'block' : 'none';\n",
              "\n",
              "      async function convertToInteractive(key) {\n",
              "        const element = document.querySelector('#df-32eb7522-3f44-419c-95d8-394b0eecceac');\n",
              "        const dataTable =\n",
              "          await google.colab.kernel.invokeFunction('convertToInteractive',\n",
              "                                                    [key], {});\n",
              "        if (!dataTable) return;\n",
              "\n",
              "        const docLinkHtml = 'Like what you see? Visit the ' +\n",
              "          '<a target=\"_blank\" href=https://colab.research.google.com/notebooks/data_table.ipynb>data table notebook</a>'\n",
              "          + ' to learn more about interactive tables.';\n",
              "        element.innerHTML = '';\n",
              "        dataTable['output_type'] = 'display_data';\n",
              "        await google.colab.output.renderOutput(dataTable, element);\n",
              "        const docLink = document.createElement('div');\n",
              "        docLink.innerHTML = docLinkHtml;\n",
              "        element.appendChild(docLink);\n",
              "      }\n",
              "    </script>\n",
              "  </div>\n",
              "\n",
              "\n",
              "<div id=\"df-4ccea1fd-4d8b-4dd1-a9c8-11ec4c85c226\">\n",
              "  <button class=\"colab-df-quickchart\" onclick=\"quickchart('df-4ccea1fd-4d8b-4dd1-a9c8-11ec4c85c226')\"\n",
              "            title=\"Suggest charts\"\n",
              "            style=\"display:none;\">\n",
              "\n",
              "<svg xmlns=\"http://www.w3.org/2000/svg\" height=\"24px\"viewBox=\"0 0 24 24\"\n",
              "     width=\"24px\">\n",
              "    <g>\n",
              "        <path d=\"M19 3H5c-1.1 0-2 .9-2 2v14c0 1.1.9 2 2 2h14c1.1 0 2-.9 2-2V5c0-1.1-.9-2-2-2zM9 17H7v-7h2v7zm4 0h-2V7h2v10zm4 0h-2v-4h2v4z\"/>\n",
              "    </g>\n",
              "</svg>\n",
              "  </button>\n",
              "\n",
              "<style>\n",
              "  .colab-df-quickchart {\n",
              "      --bg-color: #E8F0FE;\n",
              "      --fill-color: #1967D2;\n",
              "      --hover-bg-color: #E2EBFA;\n",
              "      --hover-fill-color: #174EA6;\n",
              "      --disabled-fill-color: #AAA;\n",
              "      --disabled-bg-color: #DDD;\n",
              "  }\n",
              "\n",
              "  [theme=dark] .colab-df-quickchart {\n",
              "      --bg-color: #3B4455;\n",
              "      --fill-color: #D2E3FC;\n",
              "      --hover-bg-color: #434B5C;\n",
              "      --hover-fill-color: #FFFFFF;\n",
              "      --disabled-bg-color: #3B4455;\n",
              "      --disabled-fill-color: #666;\n",
              "  }\n",
              "\n",
              "  .colab-df-quickchart {\n",
              "    background-color: var(--bg-color);\n",
              "    border: none;\n",
              "    border-radius: 50%;\n",
              "    cursor: pointer;\n",
              "    display: none;\n",
              "    fill: var(--fill-color);\n",
              "    height: 32px;\n",
              "    padding: 0;\n",
              "    width: 32px;\n",
              "  }\n",
              "\n",
              "  .colab-df-quickchart:hover {\n",
              "    background-color: var(--hover-bg-color);\n",
              "    box-shadow: 0 1px 2px rgba(60, 64, 67, 0.3), 0 1px 3px 1px rgba(60, 64, 67, 0.15);\n",
              "    fill: var(--button-hover-fill-color);\n",
              "  }\n",
              "\n",
              "  .colab-df-quickchart-complete:disabled,\n",
              "  .colab-df-quickchart-complete:disabled:hover {\n",
              "    background-color: var(--disabled-bg-color);\n",
              "    fill: var(--disabled-fill-color);\n",
              "    box-shadow: none;\n",
              "  }\n",
              "\n",
              "  .colab-df-spinner {\n",
              "    border: 2px solid var(--fill-color);\n",
              "    border-color: transparent;\n",
              "    border-bottom-color: var(--fill-color);\n",
              "    animation:\n",
              "      spin 1s steps(1) infinite;\n",
              "  }\n",
              "\n",
              "  @keyframes spin {\n",
              "    0% {\n",
              "      border-color: transparent;\n",
              "      border-bottom-color: var(--fill-color);\n",
              "      border-left-color: var(--fill-color);\n",
              "    }\n",
              "    20% {\n",
              "      border-color: transparent;\n",
              "      border-left-color: var(--fill-color);\n",
              "      border-top-color: var(--fill-color);\n",
              "    }\n",
              "    30% {\n",
              "      border-color: transparent;\n",
              "      border-left-color: var(--fill-color);\n",
              "      border-top-color: var(--fill-color);\n",
              "      border-right-color: var(--fill-color);\n",
              "    }\n",
              "    40% {\n",
              "      border-color: transparent;\n",
              "      border-right-color: var(--fill-color);\n",
              "      border-top-color: var(--fill-color);\n",
              "    }\n",
              "    60% {\n",
              "      border-color: transparent;\n",
              "      border-right-color: var(--fill-color);\n",
              "    }\n",
              "    80% {\n",
              "      border-color: transparent;\n",
              "      border-right-color: var(--fill-color);\n",
              "      border-bottom-color: var(--fill-color);\n",
              "    }\n",
              "    90% {\n",
              "      border-color: transparent;\n",
              "      border-bottom-color: var(--fill-color);\n",
              "    }\n",
              "  }\n",
              "</style>\n",
              "\n",
              "  <script>\n",
              "    async function quickchart(key) {\n",
              "      const quickchartButtonEl =\n",
              "        document.querySelector('#' + key + ' button');\n",
              "      quickchartButtonEl.disabled = true;  // To prevent multiple clicks.\n",
              "      quickchartButtonEl.classList.add('colab-df-spinner');\n",
              "      try {\n",
              "        const charts = await google.colab.kernel.invokeFunction(\n",
              "            'suggestCharts', [key], {});\n",
              "      } catch (error) {\n",
              "        console.error('Error during call to suggestCharts:', error);\n",
              "      }\n",
              "      quickchartButtonEl.classList.remove('colab-df-spinner');\n",
              "      quickchartButtonEl.classList.add('colab-df-quickchart-complete');\n",
              "    }\n",
              "    (() => {\n",
              "      let quickchartButtonEl =\n",
              "        document.querySelector('#df-4ccea1fd-4d8b-4dd1-a9c8-11ec4c85c226 button');\n",
              "      quickchartButtonEl.style.display =\n",
              "        google.colab.kernel.accessAllowed ? 'block' : 'none';\n",
              "    })();\n",
              "  </script>\n",
              "</div>\n",
              "\n",
              "    </div>\n",
              "  </div>\n"
            ],
            "application/vnd.google.colaboratory.intrinsic+json": {
              "type": "dataframe",
              "variable_name": "df",
              "summary": "{\n  \"name\": \"df\",\n  \"rows\": 2484,\n  \"fields\": [\n    {\n      \"column\": \"Category\",\n      \"properties\": {\n        \"dtype\": \"category\",\n        \"num_unique_values\": 24,\n        \"samples\": [\n          \"AGRICULTURE\",\n          \"APPAREL\",\n          \"HR\"\n        ],\n        \"semantic_type\": \"\",\n        \"description\": \"\"\n      }\n    },\n    {\n      \"column\": \"Resume\",\n      \"properties\": {\n        \"dtype\": \"string\",\n        \"num_unique_values\": 2481,\n        \"samples\": [\n          \"information technology specialist discountpcfix summary obsessed technology power change everything technology fuels passion commitment helping organizations set engage bring fresh ideas help team galvanize performance refine strategy spark new energy future get depends build connect create transform world accomplished years information technology support experience highly articulate capable experienced installing updating hardware software systems users known effectively optimizing systems meet changing demands enhancing collaboration improving security experienced operations analyst first rate skills organizing problem solving project management ready apply experience abilities take new professional challenges passionate driven professional remarkable analytical problem solving skills expert quality assurance tester offering five years experience detailed technical system specifications provides collaborative style well developed communication skills seeking role test reporting defect resolution well rounded team player dynamic written verbal communication skills hardworking resourceful team player history going achieve notable results offering excellent blend technical aptitude creative ability inspires design teams engaging management techniques innovative thinking resourceful technical support engineer polished restoring system functionality quickly assessing resolving diverse hardware software problems skills issue escalation reporting analysis quality control schematic understanding critical thinking data management network administration experience leadership improvement plan knowledge supervision hardware repair computer configurations system upgrades new program installations organizational leadership troubleshooting maintenance equipment repair power hand tool use troubleshooting repairs preventative maintenance telecommunications systems component repairs multitasking part inspections friendly positive attitude lan wan configurations server system administration end user training program installations software testing server improvements data backups project management security technologies network configuration time management active directory knowledge cybersecurity analysis system administration microsoft office ms office apple ios technician help desk assistance application software testing mechanical abilities information systems security professional advanced knowledge windows os advanced knowledge google chrome soldering database management technical knowledge server system softwares servers storage systems network equipment pcs notebooks brands experience information technology specialist discountpcfix current company name city state assisted client new computer network equipment purchases updated installed software customers ensure computer efficiency checked computers performed diagnostics repair backed data evening helping alleviate lost information following malware incident updated software versions patches new installations close security loopholes protect users identified hardware issues caused component failures using approved diagnostic tools installed motherboards processors graphics cards configured computers network drivers connected printers peripheral equipment upgraded laptops desktops improving speed performance fixed apple iphone imac ipad laptop products screen damage fixed brand windows os mac os chrome os products liquid damage observed system functioning entered commands test different areas operations explained technology related details easy understand terms individuals walks life various job positions responded assistance requests users directed individuals basic troubleshooting tasks reviewed current hardware software configurations recommended modifications increase system speed serviced repaired equipment according manufacturer guidelines installed new systems components according service orders manufacturer instructions assessed identified issues quickly resolved restore functionality built repaired computers according schedule installed configured setup pcs stores optimal operation reporting evaluated interfaces hardware software testing performance requirements studied complex technical issues determined proper resolution methods assisted post implementation troubleshooting new applications application upgrades determined alleviated hardware software network issues installed supported hardware software including desktops servers printers identified operational performance issues worked managers resolve concerns completed various reports analyzed report decide improvements could made recommended process systems improvements changes operations updated hardware software availability supervised network eliminate bottlenecks immediately handled network configurations hours weekends alleviate downtime maintain smooth operations assisted customers various types technical issues email live telephone delivered local remote tier support hardware software company personnel disassembled computer systems troubleshoot resolve hardware issues increased overall company performance improved uptime cost reductions quality control inspector contractor current company name city state conferred scientific engineering technical personnel resolve design research testing problems worked engineers facilitate research development testing correct mechanical failures generate technical specifications prior release developed implemented best practices defect prevention continuous improvement used specialized tools take precise measurements various aspects samples consulted engineers resolve quality production efficiency problems wrote detailed reports outlining performance quality defect rates completed non destructive tests visual inspections continuous basis inspected quality finished products making minor repairs meet project expectations documented nonconformities immediately recommended techniques prompt resolution completed non destructive tests visual inspections continuously reviewed drawings blueprints determine appropriate level inspection required adhered safety protocols minimize equipment damage avoid injuries assessed materials parts products conformance quality control requirements production specifications network analyst company name city state identified operational performance issues worked managers resolve concerns supporting following hardware types servers storage systems network equipment pcs ipad notebooks brands analyzed operational performance identify pain points provided actionable solutions management educated personnel company policies foster improved customer retention increased revenue technical knowledge standard server system software linux windows vmware drove revenue customer retention visiting corporate franchise centers serving clients educate staff company policies customer styling applications wrote reports outlining results facilitate management decision making executed monitored standards user interfaces page design graphics development provided senior technical support house staff user departments network applications monitored project budget careful assessment resource usage task management ensure costs kept low supported customers password resets account customization recorded complaints product deficiencies returned orders customer documentation system supported customers data connectivity issues assisting troubleshooting steps rebooting hardware maintained composure patience face difficult customer situations applying escalation techniques positive customer support performed site evaluations customer surveys team audits promoted continuous improvement governance processes spearheaded server infrastructure development quality control staging production operations quality control manager company name city state stayed well informed company federal regulations bolstered compliance corporate processes used creative professional policy find solutions issues diminishing conflicts handled scheduling procedures department directed team members setting achieving goals observed customer specifications monitoring quality control finished products education training federal polytechnic ado ekiti city state associate science science technology phoenix east aviation city state f aircraft dispatcher license aviation university colorado boulder city certificate cybersecurity policy aviation internet google support city certificate completed professional course security defense digital dark arts operating system becoming power user bits bytes computer networking system administration infrastructure service technical support fundamentals\",\n          \"business development director summary collaborate multiple stakeholders determine audience needs quickly developing strategic plans align clients business priorities strategies experience business development director current company name city state producing measurable results clients designing unique engagement initiatives employees sales channel partners consumers groups sales performance improvement products intangible services fortune clients success discovering growing business customers potential spend million year designed innovative solutions customized customers various objectives end result needs managing internal teams develop design operate complex custom projects ranging value least millions titles called include entire c suite ceo coo cfo cmo president evp marketing sales human resources finance define business issues improve revenue penetrating existing accounts opening new sold new accounts current position managed sales volume profit margin long sales cycle managed hired staff work major global account travel meetings business years total book business constantly million year nearly twice entertainment activity similar tenure achieved million sales twice becoming trusted partner clients customers want win account territory district sales manager national account sales company name city state responsible growth distributor sales volume product mix motivation dsr sales forces developed custom local training marketing materials later adopted nestle corporate distributor chain accounts accounted million sales increased chain accounts national accounts created sales forecasts developed budgets strategic plans managed entire regional office staff working team grew business nestle largest account nearly double surpassed sales budget goals year manager twice led company nationally new product introductions district sales grew million million district manager hired five salespeople direct reports promoted managed eight account managers time developed new reports marketing promotional strategies field designed account reviews process management field training programs entire company sold small business owners managed distributor sales accounts using strategic planning innovative programming cultivating strong personal relationships took area territory sales million mature company industry average annual increase financial operations executive department merchandising manager company name city state financial operations executive south bend store volunteered merchandise manager stores largest department role department highest foot sales volume department entire corporation th quarter accomplishments times president achievement guild award winner sales volume profit times president achievement award winner sales volume profit times achievement guild winner leadership year running combined volume top travel meetings sales several times biw national sales contest superbowl twice awarded achiever year profitable direct customer reviewed consistently management career outstanding exceeding expectations college elected executive positions finance club resident housing association skills sales business development distributor sales territory sales district sales sales solutions sales teams sales accounts national accounts sales management strategic accounts sales promotions travel meeting sales technology application sales clients management marketing budget budgets forecasts promotional travel meeting operations strategic planning training training development financial operations merchandising corporate operations employee engagement managing existing accounts forecasting human resources finding new accounts relationship building strategic direction education bachelor business administration finance general business western michigan university city state earned educational living costs jobs worked college industrial heavy construction excelled several sales roles including direct sales home goods direct sales national trip ranked top country sales started twosuccessful campus businesses member varsity division football team years organizations imex milford memories planning board huron valley youth baseball president treasurer director travel baseball lakeland milford travel secretary milford high school baseball instructor\",\n          \"engineering intern personal summary age years permanenet residency australia new zealand citizen currently living sydney australia knowledge base c python r stk catia ansys latex solidworks microsoft office microsoft project academic background high school diploma mathematics physics chemistry engineering nortmead high school city state australia ranked st place unit mathematics physics chemistry engineering studies ranked rd place extension mathematics english advanced received nd highest atar school bachelor science bachelor engineering honours aerospace university new south wales unsw city state australia maintained distinction final years university obtained high distinction distinction results advanced rd th year subjects engineering faculty dynamics aerospace vehicles avionics finite element methods aerodynamics professional engineering communication thesis using matlab programming certifications credentials scrum fundamentals certified data science fundamentals certified oracle sql developer advanced sql sql expert progress experience engineering intern feb apr company name city state achievements collaborated team engineers different fields goal creating technical solutions product concerns raised customers produced test record documentation containing solutions customers contacted customers directly verbally convey test result explain solution procedure written documentation successfully independently scoped business opportunities technically analysing possible options presented information company director independently autonomously researched far regulations successfully create test record sheets containing correct load values test methodology structural load testing seats aeromedical transport vehicles quickly learned production article conformity procedures taught casa regulatory authorities applied knowledge techniques autonomously measure articles appropriate measuring equipment tools strict timeframes reported nonconformities provided recommendations modifications directly design engineer built tested verified products performing functional qualitative inspections discover faults issues production articles deduced failure modes items undergo structural load testing using problem solving skills analytical skills using finite element ansys software independently created equipment supports integrated safety barriers analytical cad assisted design construction using mechanical engineering methods tools equipment desoldered soldered electronic components circuit boards rapidly create multiple fully functioning led lights used electronic medical equipment sales representative may jan company name city efficiently recorded sales orders purchase orders fire warning systems lights electrical fittings cameras displayed excellent customer service skills interpersonal skills communicating australian international customers phone provide information products maintaining regular email phone contact customers collaborated sales manager provide updates progress accounts prepared followed customer quotes turned leads appointments provided training customers ensure efficiently clean correctly use maintain company product applied regular follow process maximizing sales enquiry selling new customers identifying sales opportunities basic repairs maintenance existing customers ensuring email telephone enquiries answered minutes displayed ability focus high pressure environments calmly handling customer complaints showed flexibility collaborating administration team demanding times complete administrative tasks update records demonstrated attention detail utilizing time management skills setting goals prioritizing tasks creating schedules work strict deadlines tutor feb may company name city state tutored students one one classes group classes using effective teaching techniques help students ranging year difficulties science mathematics physics chemistry english provided assistance students ranging year fast paced homework help classes mechanical design engineer aug jul company name city state shared responsibility designing cubesat leader mechanical design team entry canadian satellite design challenge csdc solidworks structurally tested ansys printed completion design communicated teams fields using jira involved constructing mars rover entry european rover challenge erc led mechanical team designing gimbal gyroscopic testbed reaction wheel system solidworks displayed future students form printed model trained new members mechanical team using solidworks taught thermal electrical structural concepts memberships bluesat basic low earth orbit unsw experimental satellite group engineers australia achievements shared responsibility designing cubesat leader mechanical design team entry canadian satellite design challenge csdc solidworks structurally tested ansys printed completion design communicated teams fields using jira involved constructing mars rover entry european rover challenge erc led mechanical team designing gimbal gyroscopic testbed reaction wheel system solidworks displayed future students form printed modeltrained new members mechanical team using solidworks taught thermal electrical structural concepts community services social support youth services volunteer karabi community development services wentworthville sydney going achievements displayed passion social service support teaching facilitating setting activities events elderly people disabilities children provided assistance administration creative work office facilitating supervising youth school holiday programs personal interests hobbies traveling tennis hiking statistics cad drawing aircraft spacecraft astronomy\"\n        ],\n        \"semantic_type\": \"\",\n        \"description\": \"\"\n      }\n    }\n  ]\n}"
            }
          },
          "metadata": {},
          "execution_count": 3
        }
      ]
    },
    {
      "cell_type": "code",
      "source": [
        "df.shape"
      ],
      "metadata": {
        "colab": {
          "base_uri": "https://localhost:8080/"
        },
        "id": "ZlK3HhKtIA1-",
        "outputId": "d947f893-a7a8-41dc-ef15-0f950693fe37"
      },
      "execution_count": null,
      "outputs": [
        {
          "output_type": "execute_result",
          "data": {
            "text/plain": [
              "(2484, 2)"
            ]
          },
          "metadata": {},
          "execution_count": 4
        }
      ]
    },
    {
      "cell_type": "code",
      "source": [
        "df['Category'].value_counts()"
      ],
      "metadata": {
        "colab": {
          "base_uri": "https://localhost:8080/",
          "height": 868
        },
        "id": "M6FJjVWaIC8i",
        "outputId": "16fdd982-752f-4649-c498-06d56877fb34"
      },
      "execution_count": null,
      "outputs": [
        {
          "output_type": "execute_result",
          "data": {
            "text/plain": [
              "Category\n",
              "INFORMATION-TECHNOLOGY    120\n",
              "BUSINESS-DEVELOPMENT      120\n",
              "ADVOCATE                  118\n",
              "CHEF                      118\n",
              "ENGINEERING               118\n",
              "ACCOUNTANT                118\n",
              "FINANCE                   118\n",
              "FITNESS                   117\n",
              "AVIATION                  117\n",
              "SALES                     116\n",
              "BANKING                   115\n",
              "HEALTHCARE                115\n",
              "CONSULTANT                115\n",
              "CONSTRUCTION              112\n",
              "PUBLIC-RELATIONS          111\n",
              "HR                        110\n",
              "DESIGNER                  107\n",
              "ARTS                      103\n",
              "TEACHER                   102\n",
              "APPAREL                    97\n",
              "DIGITAL-MEDIA              96\n",
              "AGRICULTURE                63\n",
              "AUTOMOBILE                 36\n",
              "BPO                        22\n",
              "Name: count, dtype: int64"
            ],
            "text/html": [
              "<div>\n",
              "<style scoped>\n",
              "    .dataframe tbody tr th:only-of-type {\n",
              "        vertical-align: middle;\n",
              "    }\n",
              "\n",
              "    .dataframe tbody tr th {\n",
              "        vertical-align: top;\n",
              "    }\n",
              "\n",
              "    .dataframe thead th {\n",
              "        text-align: right;\n",
              "    }\n",
              "</style>\n",
              "<table border=\"1\" class=\"dataframe\">\n",
              "  <thead>\n",
              "    <tr style=\"text-align: right;\">\n",
              "      <th></th>\n",
              "      <th>count</th>\n",
              "    </tr>\n",
              "    <tr>\n",
              "      <th>Category</th>\n",
              "      <th></th>\n",
              "    </tr>\n",
              "  </thead>\n",
              "  <tbody>\n",
              "    <tr>\n",
              "      <th>INFORMATION-TECHNOLOGY</th>\n",
              "      <td>120</td>\n",
              "    </tr>\n",
              "    <tr>\n",
              "      <th>BUSINESS-DEVELOPMENT</th>\n",
              "      <td>120</td>\n",
              "    </tr>\n",
              "    <tr>\n",
              "      <th>ADVOCATE</th>\n",
              "      <td>118</td>\n",
              "    </tr>\n",
              "    <tr>\n",
              "      <th>CHEF</th>\n",
              "      <td>118</td>\n",
              "    </tr>\n",
              "    <tr>\n",
              "      <th>ENGINEERING</th>\n",
              "      <td>118</td>\n",
              "    </tr>\n",
              "    <tr>\n",
              "      <th>ACCOUNTANT</th>\n",
              "      <td>118</td>\n",
              "    </tr>\n",
              "    <tr>\n",
              "      <th>FINANCE</th>\n",
              "      <td>118</td>\n",
              "    </tr>\n",
              "    <tr>\n",
              "      <th>FITNESS</th>\n",
              "      <td>117</td>\n",
              "    </tr>\n",
              "    <tr>\n",
              "      <th>AVIATION</th>\n",
              "      <td>117</td>\n",
              "    </tr>\n",
              "    <tr>\n",
              "      <th>SALES</th>\n",
              "      <td>116</td>\n",
              "    </tr>\n",
              "    <tr>\n",
              "      <th>BANKING</th>\n",
              "      <td>115</td>\n",
              "    </tr>\n",
              "    <tr>\n",
              "      <th>HEALTHCARE</th>\n",
              "      <td>115</td>\n",
              "    </tr>\n",
              "    <tr>\n",
              "      <th>CONSULTANT</th>\n",
              "      <td>115</td>\n",
              "    </tr>\n",
              "    <tr>\n",
              "      <th>CONSTRUCTION</th>\n",
              "      <td>112</td>\n",
              "    </tr>\n",
              "    <tr>\n",
              "      <th>PUBLIC-RELATIONS</th>\n",
              "      <td>111</td>\n",
              "    </tr>\n",
              "    <tr>\n",
              "      <th>HR</th>\n",
              "      <td>110</td>\n",
              "    </tr>\n",
              "    <tr>\n",
              "      <th>DESIGNER</th>\n",
              "      <td>107</td>\n",
              "    </tr>\n",
              "    <tr>\n",
              "      <th>ARTS</th>\n",
              "      <td>103</td>\n",
              "    </tr>\n",
              "    <tr>\n",
              "      <th>TEACHER</th>\n",
              "      <td>102</td>\n",
              "    </tr>\n",
              "    <tr>\n",
              "      <th>APPAREL</th>\n",
              "      <td>97</td>\n",
              "    </tr>\n",
              "    <tr>\n",
              "      <th>DIGITAL-MEDIA</th>\n",
              "      <td>96</td>\n",
              "    </tr>\n",
              "    <tr>\n",
              "      <th>AGRICULTURE</th>\n",
              "      <td>63</td>\n",
              "    </tr>\n",
              "    <tr>\n",
              "      <th>AUTOMOBILE</th>\n",
              "      <td>36</td>\n",
              "    </tr>\n",
              "    <tr>\n",
              "      <th>BPO</th>\n",
              "      <td>22</td>\n",
              "    </tr>\n",
              "  </tbody>\n",
              "</table>\n",
              "</div><br><label><b>dtype:</b> int64</label>"
            ]
          },
          "metadata": {},
          "execution_count": 5
        }
      ]
    },
    {
      "cell_type": "code",
      "source": [
        "df['Category'].unique()"
      ],
      "metadata": {
        "colab": {
          "base_uri": "https://localhost:8080/"
        },
        "id": "rm-6elhqIJ8l",
        "outputId": "3b20b90e-8d45-4bda-de54-2461c2fd1046"
      },
      "execution_count": null,
      "outputs": [
        {
          "output_type": "execute_result",
          "data": {
            "text/plain": [
              "array(['HR', 'DESIGNER', 'INFORMATION-TECHNOLOGY', 'TEACHER', 'ADVOCATE',\n",
              "       'BUSINESS-DEVELOPMENT', 'HEALTHCARE', 'FITNESS', 'AGRICULTURE',\n",
              "       'BPO', 'SALES', 'CONSULTANT', 'DIGITAL-MEDIA', 'AUTOMOBILE',\n",
              "       'CHEF', 'FINANCE', 'APPAREL', 'ENGINEERING', 'ACCOUNTANT',\n",
              "       'CONSTRUCTION', 'PUBLIC-RELATIONS', 'BANKING', 'ARTS', 'AVIATION'],\n",
              "      dtype=object)"
            ]
          },
          "metadata": {},
          "execution_count": 6
        }
      ]
    },
    {
      "cell_type": "code",
      "source": [
        "df['Category'][0]"
      ],
      "metadata": {
        "colab": {
          "base_uri": "https://localhost:8080/",
          "height": 36
        },
        "id": "XDu6za7EJSGO",
        "outputId": "7703fec2-4aa4-46aa-beb0-b226d4483f7c"
      },
      "execution_count": null,
      "outputs": [
        {
          "output_type": "execute_result",
          "data": {
            "text/plain": [
              "'HR'"
            ],
            "application/vnd.google.colaboratory.intrinsic+json": {
              "type": "string"
            }
          },
          "metadata": {},
          "execution_count": 7
        }
      ]
    },
    {
      "cell_type": "code",
      "source": [
        "df['Resume'][30]"
      ],
      "metadata": {
        "colab": {
          "base_uri": "https://localhost:8080/",
          "height": 140
        },
        "id": "7dX45KuPJUpr",
        "outputId": "44317254-fcc1-4e85-da28-4ac9ded167f4"
      },
      "execution_count": null,
      "outputs": [
        {
          "output_type": "execute_result",
          "data": {
            "text/plain": [
              "'hr assistant highlights interviewing expertise employee relations manager coaching training event management employee handbook development staffing recruiting professional boarding accomplishments organized hr generalist effective record maintenance assuring compliance government employment regulations times personable hr generalist versed recruiting top employees automotive companies innovative start ups experience public speaking college campuses attract new talent experience hr assistant september current company name city state advise managers organizational policy matters andrecommend needed changes conduct new employee orientatio foster positive attitudes organizational objectives identify staff vacancies recruite interview select aplicants serve link management employees handling questions interpreting administering contracts help resolve work related problems address inquires employees management regarding new hire activity ongoing employee relation issues created implimented exit interview program process advise top management apropriate employee corrective actions create modify job discriptions departments work senior level management create fair consistent hr policies procedures work hr advisors hr representatives establishing consistent hiring practices create manage confidential personnel records facilitate monthly meetings develpo strategies positively influence workplace relationships suport employees levels including executive leadership experience specialist september company name city state prevented store losses using awareness attention detail integrity cross trained provided back customer services representatives needed generated sales inventory reports excel data variety sources maintaining accuracy rate prepared sold broad range customized merchandise individuals commercial accounts resolved product issues shared benefits new technology successfully interacted customers retail buyers expedite orders compilied weekly monetary reports records store managers maintained adequate cash supply cash drawers multiple checkout stations managed cash stock inventory balances accurately clerk store manager june january company name city state promoted store manager weeks clerk managed team professionals reduced controlled expenses developing inventory controll process later used local stores delivered excellent customer service greeting assisting customer addressed customer inquires resolved complaints designed implimented customer satisfaction metrics stocked restocked inventory shipments received reorganized sales floor meet company demands directed supervised employees engaged sales inventory taking reconciling cash receipts determined staff promotions demotions terminated employees necessary completed weekly schedules according payroll policies maintained daily records transactions wrote order suply requests replenish merchandise trained staff deliver outstanding customer service addressed corrected sales staff communication issues tactful effective manner student worker multiple departments may may company name city state inspired students translate academic interests real world taking positive actions initiated throught provoking classroom discussions help students develop critical thinking abilities emphasized importance academic honesty students instructed proper citation research sources maintained athletics yearly budget accuracy conseled undergraduates regard educational professional goals proctored yearly final exams end semester maintained strong ties alumni foster long term suport school hr generalist january may company name city state conducted benefits administration benefit eligible employees designed emoployee performance evaluation process merit program addressed inquires employees management regarding new hire activity ongoing employee relation issues created implimented exit interview programprocess advise top management apropriate employee corrective actions created modified job discriptions departments worked senior level management create fair consistent hr policies procedures developed employee handbooks including design layout guided startup management hr operations systems programs new location company supported employees al levels including executive leadership education bachelor arts organizational leadership management human resource management lourdes college city state organizational leadership management human resource management associate arts lourdes college city state interests swimming bike riding camping crocheting crafts variety family activities skills academic attention detail back benefits benefits administration budget cash receipts coaching contracts critical thinking customer satisfaction customer services excellent customer service customer service employee relations event management hiring hr inventory layout leadership meetings excel organizational skills organizational payroll personnel policies problem solving reconciling recruiting research retail sales staffing store manager employee handbooks'"
            ],
            "application/vnd.google.colaboratory.intrinsic+json": {
              "type": "string"
            }
          },
          "metadata": {},
          "execution_count": 8
        }
      ]
    },
    {
      "cell_type": "code",
      "source": [
        "# Check the original category distribution\n",
        "print(\"Original Category Distribution:\")\n",
        "print(df['Category'].value_counts())\n",
        "\n",
        "# Get the largest category size (i.e., the category with the maximum number of entries)\n",
        "max_size = df['Category'].value_counts().max()\n",
        "\n",
        "# Perform oversampling\n",
        "balanced_df = df.groupby('Category').apply(lambda x: x.sample(max_size, replace=True)).reset_index(drop=True)\n",
        "\n",
        "# Shuffle the dataset to avoid any order bias\n",
        "df = balanced_df.sample(frac=1).reset_index(drop=True)\n",
        "\n",
        "# Check the balanced category distribution\n",
        "print(\"\\nBalanced Category Distribution (After Oversampling):\")\n",
        "print(df['Category'].value_counts())"
      ],
      "metadata": {
        "colab": {
          "base_uri": "https://localhost:8080/"
        },
        "id": "qTahnvWbJW71",
        "outputId": "254170f3-dfa2-46f6-fcd8-852d427a8c6f"
      },
      "execution_count": null,
      "outputs": [
        {
          "output_type": "stream",
          "name": "stdout",
          "text": [
            "Original Category Distribution:\n",
            "Category\n",
            "INFORMATION-TECHNOLOGY    120\n",
            "BUSINESS-DEVELOPMENT      120\n",
            "ADVOCATE                  118\n",
            "CHEF                      118\n",
            "ENGINEERING               118\n",
            "ACCOUNTANT                118\n",
            "FINANCE                   118\n",
            "FITNESS                   117\n",
            "AVIATION                  117\n",
            "SALES                     116\n",
            "BANKING                   115\n",
            "HEALTHCARE                115\n",
            "CONSULTANT                115\n",
            "CONSTRUCTION              112\n",
            "PUBLIC-RELATIONS          111\n",
            "HR                        110\n",
            "DESIGNER                  107\n",
            "ARTS                      103\n",
            "TEACHER                   102\n",
            "APPAREL                    97\n",
            "DIGITAL-MEDIA              96\n",
            "AGRICULTURE                63\n",
            "AUTOMOBILE                 36\n",
            "BPO                        22\n",
            "Name: count, dtype: int64\n",
            "\n",
            "Balanced Category Distribution (After Oversampling):\n",
            "Category\n",
            "CHEF                      120\n",
            "SALES                     120\n",
            "DESIGNER                  120\n",
            "BPO                       120\n",
            "ARTS                      120\n",
            "CONSTRUCTION              120\n",
            "AGRICULTURE               120\n",
            "BANKING                   120\n",
            "HEALTHCARE                120\n",
            "HR                        120\n",
            "BUSINESS-DEVELOPMENT      120\n",
            "DIGITAL-MEDIA             120\n",
            "ADVOCATE                  120\n",
            "AUTOMOBILE                120\n",
            "CONSULTANT                120\n",
            "APPAREL                   120\n",
            "FITNESS                   120\n",
            "FINANCE                   120\n",
            "PUBLIC-RELATIONS          120\n",
            "AVIATION                  120\n",
            "TEACHER                   120\n",
            "ACCOUNTANT                120\n",
            "INFORMATION-TECHNOLOGY    120\n",
            "ENGINEERING               120\n",
            "Name: count, dtype: int64\n"
          ]
        },
        {
          "output_type": "stream",
          "name": "stderr",
          "text": [
            "<ipython-input-9-58fa04a1b064>:9: DeprecationWarning: DataFrameGroupBy.apply operated on the grouping columns. This behavior is deprecated, and in a future version of pandas the grouping columns will be excluded from the operation. Either pass `include_groups=False` to exclude the groupings or explicitly select the grouping columns after groupby to silence this warning.\n",
            "  balanced_df = df.groupby('Category').apply(lambda x: x.sample(max_size, replace=True)).reset_index(drop=True)\n"
          ]
        }
      ]
    },
    {
      "cell_type": "code",
      "source": [
        "df.shape"
      ],
      "metadata": {
        "colab": {
          "base_uri": "https://localhost:8080/"
        },
        "id": "QwxuV6cTQgL6",
        "outputId": "c8fa2fec-32d8-4533-c654-76eaefcf6e4b"
      },
      "execution_count": null,
      "outputs": [
        {
          "output_type": "execute_result",
          "data": {
            "text/plain": [
              "(2880, 2)"
            ]
          },
          "metadata": {},
          "execution_count": 10
        }
      ]
    },
    {
      "cell_type": "code",
      "source": [
        "import re\n",
        "import nltk\n",
        "import string\n",
        "from nltk.corpus import stopwords\n",
        "from nltk.tokenize import word_tokenize\n",
        "from nltk.stem import WordNetLemmatizer\n",
        "\n",
        "nltk.download('stopwords')\n",
        "nltk.download('punkt')\n",
        "nltk.download('punkt_tab')\n",
        "nltk.download('wordnet')\n",
        "\n",
        "def cleanResume(text):\n",
        "    \"\"\"Preprocesses and cleans resume text using NLP techniques.\"\"\"\n",
        "\n",
        "    if isinstance(text, str):\n",
        "        text = re.sub(r'http\\S+', ' ', text)\n",
        "        text = re.sub(r'@\\S+|#\\S+', ' ', text)\n",
        "        text = re.sub(r'[%s]' % re.escape(string.punctuation), ' ', text)\n",
        "        text = re.sub(r'\\d+', ' ', text)\n",
        "        text = re.sub(r'[^\\x00-\\x7F]+', ' ', text)\n",
        "        text = text.lower()\n",
        "        words = word_tokenize(text)\n",
        "        stop_words = set(stopwords.words('english'))\n",
        "        words = [word for word in words if word not in stop_words]\n",
        "        lemmatizer = WordNetLemmatizer()\n",
        "        words = [lemmatizer.lemmatize(word) for word in words]\n",
        "\n",
        "        cleaned_text = ' '.join(words)\n",
        "\n",
        "        return cleaned_text\n",
        "    else:\n",
        "        # Handle non-string values (e.g., NaN, float) by returning an empty string or a placeholder\n",
        "        return ''"
      ],
      "metadata": {
        "id": "pDEiJqJMJcX3",
        "colab": {
          "base_uri": "https://localhost:8080/"
        },
        "outputId": "c4944192-b3e1-430c-b855-786e42c14cfa"
      },
      "execution_count": null,
      "outputs": [
        {
          "output_type": "stream",
          "name": "stderr",
          "text": [
            "[nltk_data] Downloading package stopwords to /root/nltk_data...\n",
            "[nltk_data]   Unzipping corpora/stopwords.zip.\n",
            "[nltk_data] Downloading package punkt to /root/nltk_data...\n",
            "[nltk_data]   Unzipping tokenizers/punkt.zip.\n",
            "[nltk_data] Downloading package punkt_tab to /root/nltk_data...\n",
            "[nltk_data]   Unzipping tokenizers/punkt_tab.zip.\n",
            "[nltk_data] Downloading package wordnet to /root/nltk_data...\n"
          ]
        }
      ]
    },
    {
      "cell_type": "code",
      "source": [
        "cleanResume(\"my #### $ # varshitha webiste like is this surendra http://heloword and access it @gmain.com\")"
      ],
      "metadata": {
        "colab": {
          "base_uri": "https://localhost:8080/",
          "height": 36
        },
        "id": "B6OVjb7A3bug",
        "outputId": "06a5924a-5eb9-4da6-e727-e2808b04a740"
      },
      "execution_count": null,
      "outputs": [
        {
          "output_type": "execute_result",
          "data": {
            "text/plain": [
              "'varshitha webiste like surendra access'"
            ],
            "application/vnd.google.colaboratory.intrinsic+json": {
              "type": "string"
            }
          },
          "metadata": {},
          "execution_count": 33
        }
      ]
    },
    {
      "cell_type": "code",
      "source": [
        "df['Resume'] = df['Resume'].apply(lambda x: cleanResume(x))"
      ],
      "metadata": {
        "id": "EAE2RRGHJx67"
      },
      "execution_count": null,
      "outputs": []
    },
    {
      "cell_type": "code",
      "source": [
        "df['Resume'][50]"
      ],
      "metadata": {
        "colab": {
          "base_uri": "https://localhost:8080/",
          "height": 140
        },
        "id": "k6-zdbGEJ0iy",
        "outputId": "96121cb2-938e-40da-9a1d-8c94bc1ee08a"
      },
      "execution_count": null,
      "outputs": [
        {
          "output_type": "execute_result",
          "data": {
            "text/plain": [
              "'program administrator executive summary result focused management professional offering year progressive leadership experience transforms high potential staff outstanding leader demonstrate creativity savvy critical financial operational success professional experience program administrator january january company name city state impart support program management team coordinated program manager corresponds customer managed difficult sensitive issue manage difficult sensitive issue interpreted technical information easy manner carried data input aid program manager develop cost baseline outlined memorandum agreement administer program personnel implemented disciplinary measure outline program information opportunity computed grant budget cuff account plan organize assign direct review evaluate work assigned staff motivate evaluate staff provide training professional development implement goal objective policy procedure work standard internal control plan organize implement multi faceted senior program activity identifying community senior citizen need recommending alternative enhanced program exercising sound independent judgment general policy guideline prepare clear concise complete report written correspondence establish maintain effective working relationship contacted course work cbs banking representative january january company name city state provided excellent communication skill verbal written including ability listen explain complex subject convey solution calm clear manner client used excellent analytical skill superior level attention detail order adhere stringent bank policy procedure guideline client internal representative provided positive attitude enthusiasm professionalism strong work ethic high level integrity ethic client team member daily base collaborated relational work style proven success team environment provided intermediate advanced technical skill ability utilize open program one time including window internet researching database system email used basic math skill including addition subtraction multiplication division intermediate data entry typing skill daily provided multi tasking skill including limited speaking customer phone assessing need researching information computer documenting information one time assistant social service coordinator january january company name city state assisted providing expertise implementing quality control measure service delivery meet head start performance standard federal state regulation agency outcome supervised early head start family support specialist oversee monitor day day service provided infant toddler pregnant woman family coordinated medical wellness coordinator assure screening assessment home visit completed worked closely home base family partnership coordinator provide service family ehs enrolled home based combination program option participate facilitate coordinate pregnant woman educational meeting conjunction home base family partnership coordinator help build collaboration community partner recruitment child family submitted weekly monthly report coordinator regarding finding center level quality service delivery compliance non compliance issue staffing need concern etc assisted coordinator establish community linkage maximize resource benefit head start early head start family contribute attaining agency kind goal participated ehs transition process assist preparation pir program information report yearly needed director january january company name city state served director program implemented new program service involving child supervised total staff member certified licensed therapist performed ongoing service family child developmental disability indiana first step staff member operated performed program service family child wrote proposal organized first school program danville community school managed prepared annual department budget semi monthly payroll fiscal concern education master degree public administration high point university city state public administration bachelor science human development family study indiana university city state human development family studiesfamily life educator certification senior service group facilitator certification adult basic education ged consultant additional information volunteer experience facilitate growth group monthly new direction christian church serve board member believer faith based organization domestic violence christian organized provided event logistics annual kid fair danville assisted coordinating summer event banquet facility charles myers golf outing risk youth charlotte nc convention visitor bureau board member healthy start girl group board member community action agency volunteer ywca annual girl sport camp volunteer greensboro volunteer center annual human race walk skill analytical skill attention detail budget excellent communication concise consultant client data entry database delivery educator excel microsoft office powerpoint window word multi tasking process proposal speaking quality quality control recruitment researching staffing phone typing skill excellent oral written skill'"
            ],
            "application/vnd.google.colaboratory.intrinsic+json": {
              "type": "string"
            }
          },
          "metadata": {},
          "execution_count": 13
        }
      ]
    },
    {
      "cell_type": "code",
      "source": [
        "from sklearn.preprocessing import LabelEncoder\n",
        "le = LabelEncoder()"
      ],
      "metadata": {
        "id": "ZWv3it56J3jZ"
      },
      "execution_count": null,
      "outputs": []
    },
    {
      "cell_type": "code",
      "source": [
        "le.fit(df['Category'])\n",
        "df['Category'] = le.transform(df['Category'])"
      ],
      "metadata": {
        "id": "m5foLopBJ6At"
      },
      "execution_count": null,
      "outputs": []
    },
    {
      "cell_type": "code",
      "source": [
        "df.Category.unique()"
      ],
      "metadata": {
        "colab": {
          "base_uri": "https://localhost:8080/"
        },
        "id": "_fmzmxo4J8xz",
        "outputId": "96fefedf-a8de-47b2-faac-c2718fe43177"
      },
      "execution_count": null,
      "outputs": [
        {
          "output_type": "execute_result",
          "data": {
            "text/plain": [
              "array([10, 22, 13,  8,  4, 11,  2,  7, 18, 19,  9, 14,  1,  5, 12,  3, 17,\n",
              "       16, 21,  6, 23,  0, 20, 15])"
            ]
          },
          "metadata": {},
          "execution_count": 16
        }
      ]
    },
    {
      "cell_type": "code",
      "source": [
        "from sklearn.feature_extraction.text import TfidfVectorizer\n",
        "tfidf = TfidfVectorizer(stop_words='english')\n",
        "\n",
        "tfidf.fit(df['Resume'])\n",
        "requredTaxt  = tfidf.transform(df['Resume'])"
      ],
      "metadata": {
        "id": "JCrN4OCnKDm5"
      },
      "execution_count": null,
      "outputs": []
    },
    {
      "cell_type": "code",
      "source": [
        "\n",
        "from sklearn.model_selection import train_test_split"
      ],
      "metadata": {
        "id": "X_Kcao13KGpE"
      },
      "execution_count": null,
      "outputs": []
    },
    {
      "cell_type": "code",
      "source": [
        "X_train, X_test, y_train, y_test = train_test_split(requredTaxt, df['Category'], test_size=0.1, random_state=42)\n"
      ],
      "metadata": {
        "id": "AAVn-hcxKIsa"
      },
      "execution_count": null,
      "outputs": []
    },
    {
      "cell_type": "code",
      "source": [
        "X_train.shape"
      ],
      "metadata": {
        "colab": {
          "base_uri": "https://localhost:8080/"
        },
        "id": "jT5fPNWKKKyn",
        "outputId": "b0cf0ee1-e3b7-4113-85a6-700b0afe5834"
      },
      "execution_count": null,
      "outputs": [
        {
          "output_type": "execute_result",
          "data": {
            "text/plain": [
              "(2592, 27411)"
            ]
          },
          "metadata": {},
          "execution_count": 20
        }
      ]
    },
    {
      "cell_type": "code",
      "source": [
        "X_test.shape"
      ],
      "metadata": {
        "colab": {
          "base_uri": "https://localhost:8080/"
        },
        "id": "jM851QfgKO_f",
        "outputId": "ec8f0acd-bd90-43b4-bbcc-051f043d434f"
      },
      "execution_count": null,
      "outputs": [
        {
          "output_type": "execute_result",
          "data": {
            "text/plain": [
              "(288, 27411)"
            ]
          },
          "metadata": {},
          "execution_count": 21
        }
      ]
    },
    {
      "cell_type": "code",
      "source": [
        "from sklearn.neighbors import KNeighborsClassifier\n",
        "from sklearn.svm import SVC\n",
        "from sklearn.ensemble import RandomForestClassifier\n",
        "from sklearn.linear_model import LogisticRegression\n",
        "from sklearn.naive_bayes import GaussianNB\n",
        "from sklearn.multiclass import OneVsRestClassifier\n",
        "from sklearn.metrics import accuracy_score, confusion_matrix, classification_report\n",
        "\n",
        "# Ensure that X_train and X_test are dense if they are sparse\n",
        "X_train = X_train.toarray() if hasattr(X_train, 'toarray') else X_train\n",
        "X_test = X_test.toarray() if hasattr(X_test, 'toarray') else X_test\n",
        "\n",
        "# 1. Train KNeighborsClassifier\n",
        "knn_model = OneVsRestClassifier(KNeighborsClassifier())\n",
        "knn_model.fit(X_train, y_train)\n",
        "y_pred_knn = knn_model.predict(X_test)\n",
        "print(\"\\nKNeighborsClassifier Results:\")\n",
        "print(f\"Accuracy: {accuracy_score(y_test, y_pred_knn):.4f}\")\n",
        "print(f\"Confusion Matrix:\\n{confusion_matrix(y_test, y_pred_knn)}\")\n",
        "print(f\"Classification Report:\\n{classification_report(y_test, y_pred_knn)}\")"
      ],
      "metadata": {
        "colab": {
          "base_uri": "https://localhost:8080/"
        },
        "id": "hMnfDv3yKSdo",
        "outputId": "113f7d3d-6eaf-4c79-f6e2-d80ef30fb62f"
      },
      "execution_count": null,
      "outputs": [
        {
          "output_type": "stream",
          "name": "stdout",
          "text": [
            "\n",
            "KNeighborsClassifier Results:\n",
            "Accuracy: 0.6319\n",
            "Confusion Matrix:\n",
            "[[ 7  0  0  0  0  0  0  0  0  0  0  1  0  0  0  0  1  0  1  0  0  0  0  0]\n",
            " [ 0  7  0  0  0  0  0  0  1  0  0  0  0  0  0  0  0  1  0  0  1  0  0  1]\n",
            " [ 0  0  8  0  0  0  0  0  0  0  0  0  0  0  0  0  0  0  0  0  0  0  0  0]\n",
            " [ 0  2  0  2  0  0  0  1  0  0  0  0  1  0  1  0  1  0  0  0  0  0  0  0]\n",
            " [ 0  0  0  0  3  0  1  0  0  0  2  0  0  0  1  0  0  0  1  0  0  0  0  1]\n",
            " [ 0  0  0  0  0  4  0  0  0  0  0  0  1  0  1  0  0  0  1  1  1  0  0  0]\n",
            " [ 0  0  0  0  1  0  6  0  1  0  0  0  1  0  0  0  0  0  0  0  0  0  0  0]\n",
            " [ 0  0  0  0  0  0  0  6  1  2  0  0  0  0  0  0  0  0  0  0  0  0  1  1]\n",
            " [ 0  0  0  0  0  0  0  0 10  0  0  0  0  0  0  0  0  0  0  0  0  0  0  0]\n",
            " [ 0  1  0  0  0  0  1  2  1  6  0  0  1  0  0  0  0  1  1  0  0  0  0  0]\n",
            " [ 0  0  0  0  0  1  0  0  0  0  9  0  0  0  0  0  0  0  1  1  0  0  2  0]\n",
            " [ 0  0  0  1  0  0  0  0  0  0  0  9  0  0  0  0  0  0  0  0  0  1  1  0]\n",
            " [ 0  0  0  0  0  0  0  0  1  0  1  0  3  0  3  0  0  0  0  1  4  0  1  1]\n",
            " [ 0  0  0  1  0  0  0  0  0  0  0  0  0  6  1  1  0  0  0  0  1  0  0  0]\n",
            " [ 1  0  0  0  0  1  0  0  0  0  0  0  2  0  5  0  0  0  0  0  0  1  0  0]\n",
            " [ 0  0  0  0  0  0  0  1  0  0  0  1  1  2  0 10  0  0  0  0  0  0  0  0]\n",
            " [ 3  0  0  0  0  0  0  0  0  0  0  0  0  0  0  0  9  0  0  0  0  0  0  0]\n",
            " [ 0  0  0  0  0  0  0  0  0  0  0  0  0  0  0  0  0  4  1  0  1  0  1  0]\n",
            " [ 0  2  0  0  0  0  0  0  1  0  0  0  0  0  1  0  0  2  9  1  0  0  0  0]\n",
            " [ 0  1  0  0  0  0  0  0  0  0  0  0  0  0  0  0  0  0  0 10  0  0  0  0]\n",
            " [ 0  0  0  0  0  0  0  0  1  1  0  1  2  0  0  0  0  0  0  0 16  0  0  0]\n",
            " [ 0  1  0  0  1  0  0  0  0  0  1  0  0  1  0  0  0  0  0  0  0 13  0  0]\n",
            " [ 0  2  0  0  0  0  0  0  0  1  0  1  0  0  0  0  0  1  1  0  0  0  1  0]\n",
            " [ 0  0  0  2  1  0  0  0  0  0  0  0  0  0  0  0  0  0  0  0  0  0  0 19]]\n",
            "Classification Report:\n",
            "              precision    recall  f1-score   support\n",
            "\n",
            "           0       0.64      0.70      0.67        10\n",
            "           1       0.44      0.64      0.52        11\n",
            "           2       1.00      1.00      1.00         8\n",
            "           3       0.33      0.25      0.29         8\n",
            "           4       0.50      0.33      0.40         9\n",
            "           5       0.67      0.44      0.53         9\n",
            "           6       0.75      0.67      0.71         9\n",
            "           7       0.60      0.55      0.57        11\n",
            "           8       0.59      1.00      0.74        10\n",
            "           9       0.60      0.43      0.50        14\n",
            "          10       0.69      0.64      0.67        14\n",
            "          11       0.69      0.75      0.72        12\n",
            "          12       0.25      0.20      0.22        15\n",
            "          13       0.67      0.60      0.63        10\n",
            "          14       0.38      0.50      0.43        10\n",
            "          15       0.91      0.67      0.77        15\n",
            "          16       0.82      0.75      0.78        12\n",
            "          17       0.44      0.57      0.50         7\n",
            "          18       0.56      0.56      0.56        16\n",
            "          19       0.71      0.91      0.80        11\n",
            "          20       0.67      0.76      0.71        21\n",
            "          21       0.87      0.76      0.81        17\n",
            "          22       0.14      0.14      0.14         7\n",
            "          23       0.83      0.86      0.84        22\n",
            "\n",
            "    accuracy                           0.63       288\n",
            "   macro avg       0.61      0.61      0.61       288\n",
            "weighted avg       0.64      0.63      0.63       288\n",
            "\n"
          ]
        }
      ]
    },
    {
      "cell_type": "code",
      "source": [
        "#Train RandomForestClassifier\n",
        "rf_model = OneVsRestClassifier(RandomForestClassifier())\n",
        "rf_model.fit(X_train, y_train)\n",
        "y_pred_rf = rf_model.predict(X_test)\n",
        "print(\"\\nRandomForestClassifier Results:\")\n",
        "print(f\"Accuracy: {accuracy_score(y_test, y_pred_rf):.4f}\")\n",
        "print(f\"Confusion Matrix:\\n{confusion_matrix(y_test, y_pred_rf)}\")\n",
        "print(f\"Classification Report:\\n{classification_report(y_test, y_pred_rf)}\")"
      ],
      "metadata": {
        "colab": {
          "base_uri": "https://localhost:8080/"
        },
        "id": "qLnUSVyQKndU",
        "outputId": "98f107f0-fa8c-4bc9-cd80-04608564bb69"
      },
      "execution_count": null,
      "outputs": [
        {
          "output_type": "stream",
          "name": "stdout",
          "text": [
            "\n",
            "RandomForestClassifier Results:\n",
            "Accuracy: 0.8299\n",
            "Confusion Matrix:\n",
            "[[ 7  0  0  0  0  0  0  0  0  0  0  0  0  0  0  0  2  0  0  1  0  0  0  0]\n",
            " [ 0  9  0  0  0  0  0  0  0  0  0  0  0  0  0  1  0  0  0  0  0  0  1  0]\n",
            " [ 0  0  8  0  0  0  0  0  0  0  0  0  0  0  0  0  0  0  0  0  0  0  0  0]\n",
            " [ 0  0  0  6  0  0  0  0  0  0  0  0  0  0  0  1  1  0  0  0  0  0  0  0]\n",
            " [ 0  0  0  0  5  0  0  0  0  0  2  0  0  0  0  0  0  0  0  0  0  0  1  1]\n",
            " [ 0  0  0  0  0  9  0  0  0  0  0  0  0  0  0  0  0  0  0  0  0  0  0  0]\n",
            " [ 0  0  0  0  0  0  8  0  0  0  0  0  0  0  0  0  0  0  0  0  1  0  0  0]\n",
            " [ 0  0  0  0  0  0  0 10  0  0  0  0  0  0  0  0  0  1  0  0  0  0  0  0]\n",
            " [ 0  0  0  0  0  0  0  0 10  0  0  0  0  0  0  0  0  0  0  0  0  0  0  0]\n",
            " [ 0  0  0  0  0  0  1  1  0  8  0  0  0  0  2  0  0  0  0  0  0  1  1  0]\n",
            " [ 0  1  0  0  0  0  0  0  0  0 12  0  0  0  0  0  0  0  1  0  0  0  0  0]\n",
            " [ 0  0  0  0  0  0  0  0  0  0  0 11  0  0  0  0  0  0  0  0  0  0  1  0]\n",
            " [ 1  0  0  0  0  0  1  0  0  0  0  0  9  0  1  0  0  0  0  1  2  0  0  0]\n",
            " [ 0  0  0  1  0  0  1  0  0  0  0  0  0  6  0  0  0  1  0  0  1  0  0  0]\n",
            " [ 0  0  0  0  0  0  0  0  0  0  0  0  0  0 10  0  0  0  0  0  0  0  0  0]\n",
            " [ 0  0  0  0  0  0  0  0  0  0  0  1  0  0  0 14  0  0  0  0  0  0  0  0]\n",
            " [ 1  0  0  0  0  0  0  0  0  0  0  0  0  0  0  2  9  0  0  0  0  0  0  0]\n",
            " [ 0  0  0  0  0  0  0  0  0  0  0  0  0  0  0  0  0  7  0  0  0  0  0  0]\n",
            " [ 0  0  0  0  0  0  0  0  0  0  0  0  0  0  0  0  0  1 13  2  0  0  0  0]\n",
            " [ 0  0  0  0  0  0  0  0  0  0  0  0  0  0  0  0  0  0  1 10  0  0  0  0]\n",
            " [ 0  0  0  0  0  0  0  0  0  0  0  0  0  0  0  0  1  0  0  0 20  0  0  0]\n",
            " [ 0  0  0  0  0  0  0  0  0  0  0  0  0  0  2  0  0  0  0  1  0 14  0  0]\n",
            " [ 0  0  0  0  0  0  0  0  0  1  1  1  0  0  0  0  0  0  0  0  0  0  4  0]\n",
            " [ 0  0  0  0  2  0  0  0  0  0  0  0  0  0  0  0  0  0  0  0  0  0  0 20]]\n",
            "Classification Report:\n",
            "              precision    recall  f1-score   support\n",
            "\n",
            "           0       0.78      0.70      0.74        10\n",
            "           1       0.90      0.82      0.86        11\n",
            "           2       1.00      1.00      1.00         8\n",
            "           3       0.86      0.75      0.80         8\n",
            "           4       0.71      0.56      0.62         9\n",
            "           5       1.00      1.00      1.00         9\n",
            "           6       0.73      0.89      0.80         9\n",
            "           7       0.91      0.91      0.91        11\n",
            "           8       1.00      1.00      1.00        10\n",
            "           9       0.89      0.57      0.70        14\n",
            "          10       0.80      0.86      0.83        14\n",
            "          11       0.85      0.92      0.88        12\n",
            "          12       1.00      0.60      0.75        15\n",
            "          13       1.00      0.60      0.75        10\n",
            "          14       0.67      1.00      0.80        10\n",
            "          15       0.78      0.93      0.85        15\n",
            "          16       0.69      0.75      0.72        12\n",
            "          17       0.70      1.00      0.82         7\n",
            "          18       0.87      0.81      0.84        16\n",
            "          19       0.67      0.91      0.77        11\n",
            "          20       0.83      0.95      0.89        21\n",
            "          21       0.93      0.82      0.88        17\n",
            "          22       0.50      0.57      0.53         7\n",
            "          23       0.95      0.91      0.93        22\n",
            "\n",
            "    accuracy                           0.83       288\n",
            "   macro avg       0.83      0.83      0.82       288\n",
            "weighted avg       0.85      0.83      0.83       288\n",
            "\n"
          ]
        }
      ]
    },
    {
      "cell_type": "code",
      "source": [
        "# Function to predict the category of a resume\n",
        "def pred(input_resume):\n",
        "    cleaned_text = cleanResume(input_resume)\n",
        "    vectorized_text = tfidf.transform([cleaned_text])\n",
        "    # Convert sparse matrix to dense\n",
        "    vectorized_text = vectorized_text.toarray()\n",
        "    predicted_category = rf_model.predict(vectorized_text)\n",
        "\n",
        "    # get name of predicted category\n",
        "    predicted_category_name = le.inverse_transform(predicted_category)\n",
        "\n",
        "    return predicted_category_name[0]"
      ],
      "metadata": {
        "id": "-I95KldULDY1"
      },
      "execution_count": null,
      "outputs": []
    },
    {
      "cell_type": "code",
      "source": [
        "myresume = \"\"\"\n",
        "Jane Smith is a certified personal trainer with over 5 years of experience in helping individuals achieve their fitness goals. Specializing in weight loss, strength training, and sports conditioning, Jane has developed personalized workout routines for clients of all ages and fitness levels. She has extensive knowledge in nutrition and exercise science, and uses this to create holistic health and fitness programs that are tailored to individual needs.\n",
        "\n",
        "Jane holds a degree in Exercise Science and is a certified trainer through the National Academy of Sports Medicine (NASM). She has worked with athletes, seniors, and individuals with chronic health conditions, helping them improve their physical well-being and overall quality of life.\n",
        "\n",
        "Her expertise includes:\n",
        "- Weight Loss and Body Composition\n",
        "- Strength Training and Resistance Exercises\n",
        "- Cardio Conditioning\n",
        "- Nutrition Coaching and Meal Planning\n",
        "- Injury Prevention and Rehabilitation\n",
        "- Functional Movement and Flexibility Training\n",
        "- Group Fitness Classes\n",
        "\n",
        "Certifications:\n",
        "- Certified Personal Trainer, NASM\n",
        "- CPR and First Aid Certified\n",
        "- Yoga Instructor (200-Hour Certification)\n",
        "\n",
        "Education:\n",
        "BSc in Exercise Science, ABC University, 2014-2018\n",
        "\n",
        "Work Experience:\n",
        "- Personal Trainer at XYZ Fitness Gym (2018-Present)\n",
        "- Fitness Coach at Wellness Center (2016-2018)\n",
        "\"\"\"\n",
        "\n",
        "# Now, test the model with the Health and Fitness-focused resume\n",
        "pred(myresume)\n"
      ],
      "metadata": {
        "colab": {
          "base_uri": "https://localhost:8080/",
          "height": 36
        },
        "id": "ExFhhIUhLXce",
        "outputId": "03c47364-0c80-4680-87d6-8a4855646108"
      },
      "execution_count": null,
      "outputs": [
        {
          "output_type": "execute_result",
          "data": {
            "text/plain": [
              "'FITNESS'"
            ],
            "application/vnd.google.colaboratory.intrinsic+json": {
              "type": "string"
            }
          },
          "metadata": {},
          "execution_count": 26
        }
      ]
    },
    {
      "cell_type": "code",
      "source": [
        "myresume = \"\"\"\n",
        "Sarah Williams is a dedicated and skilled advocate with over 10 years of experience in providing legal representation to clients across various sectors, including criminal law, civil litigation, and family law. With a deep understanding of legal procedures and case law, Sarah has successfully handled numerous cases in the courtroom, negotiating favorable settlements and providing expert legal advice to individuals and businesses.\n",
        "\n",
        "She holds a law degree from XYZ University and is a licensed attorney, practicing law in multiple jurisdictions. Sarah is passionate about ensuring justice is served and strives to make legal processes more accessible to her clients. She is known for her excellent research and analytical skills, attention to detail, and commitment to upholding the law with integrity.\n",
        "\n",
        "Key Skills:\n",
        "- Criminal Law\n",
        "- Civil Litigation\n",
        "- Family Law\n",
        "- Contract Law\n",
        "- Legal Research and Writing\n",
        "- Courtroom Advocacy\n",
        "- Legal Counseling and Advice\n",
        "\n",
        "Certifications and Licenses:\n",
        "- Licensed Attorney at Law, XYZ State Bar\n",
        "- Certification in Criminal Law, XYZ University\n",
        "\n",
        "Education:\n",
        "JD in Law, XYZ University, 2010-2013\n",
        "\n",
        "Professional Experience:\n",
        "- Senior Advocate at ABC Law Firm (2016-Present)\n",
        "- Associate Advocate at DEF Legal Group (2013-2016)\n",
        "\n",
        "Languages:\n",
        "- English (Fluent)\n",
        "- Spanish (Conversational)\n",
        "\"\"\"\n",
        "pred(myresume)\n"
      ],
      "metadata": {
        "colab": {
          "base_uri": "https://localhost:8080/",
          "height": 36
        },
        "id": "lYjaINjDLg9F",
        "outputId": "7f3b4682-7766-4451-be31-3390b85f6ee6"
      },
      "execution_count": null,
      "outputs": [
        {
          "output_type": "execute_result",
          "data": {
            "text/plain": [
              "'ADVOCATE'"
            ],
            "application/vnd.google.colaboratory.intrinsic+json": {
              "type": "string"
            }
          },
          "metadata": {},
          "execution_count": 27
        }
      ]
    },
    {
      "cell_type": "code",
      "source": [
        "# Example Usage\n",
        "myresume = \"\"\"Objective:\n",
        "Dedicated and results-oriented Banking professional with a strong background in financial analysis and customer service seeking opportunities to contribute to a reputable financial institution. Eager to leverage expertise in risk management, investment strategies, and relationship building to drive business growth and client satisfaction.\n",
        "\n",
        "Education:\n",
        "- Bachelor of Business Administration in Finance, XYZ University, GPA: 3.8/4.0\n",
        "- Certified Financial Analyst (CFA) Level I Candidate\n",
        "\n",
        "Skills:\n",
        "- Proficient in financial modeling and analysis using Excel, Bloomberg Terminal, and other financial software\n",
        "- Extensive knowledge of banking products and services, including loans, mortgages, and investment products\n",
        "- Strong understanding of regulatory compliance and risk management practices in the banking industry\n",
        "- Excellent communication and interpersonal skills, with a focus on building rapport with clients and colleagues\n",
        "- Ability to work efficiently under pressure and adapt to changing market conditions\n",
        "\n",
        "Experience:\n",
        "Financial Analyst | ABC Bank\n",
        "- Conducted financial analysis and risk assessment for corporate clients, including credit analysis, financial statement analysis, and cash flow modeling\n",
        "- Developed customized financial solutions to meet clients' needs and objectives, resulting in increased revenue and client retention\n",
        "- Collaborated with cross-functional teams to identify new business opportunities and optimize existing processes\n",
        "\n",
        "Customer Service Representative | DEF Bank\n",
        "- Provided exceptional customer service to bank clients, addressing inquiries, resolving issues, and promoting banking products and services\n",
        "- Processed transactions accurately and efficiently, including deposits, withdrawals, and account transfers\n",
        "- Educated customers on various banking products and services, helping them make informed financial decisions\n",
        "\n",
        "Internship | GHI Investments\n",
        "- Assisted portfolio managers with investment research and analysis, including industry and company-specific research, financial modeling, and performance analysis\n",
        "- Prepared investment presentations and reports for clients, highlighting investment opportunities and performance metrics\n",
        "- Conducted market research and analysis to identify trends and opportunities in the financial markets\n",
        "\n",
        "Certifications:\n",
        "- Certified Financial Planner (CFP)\n",
        "- Series 7 and Series 63 Securities Licenses\n",
        "\n",
        "Languages:\n",
        "- English (Native)\n",
        "- Spanish (Proficient)\n",
        "\n",
        "\"\"\"\n",
        "# Now, test the model with the Advocate-focused resume\n",
        "pred(myresume)"
      ],
      "metadata": {
        "colab": {
          "base_uri": "https://localhost:8080/",
          "height": 36
        },
        "id": "W2eToULnLp2l",
        "outputId": "c58bd9da-b5d6-4e98-c1b8-77f4ce115aea"
      },
      "execution_count": null,
      "outputs": [
        {
          "output_type": "execute_result",
          "data": {
            "text/plain": [
              "'BANKING'"
            ],
            "application/vnd.google.colaboratory.intrinsic+json": {
              "type": "string"
            }
          },
          "metadata": {},
          "execution_count": 28
        }
      ]
    },
    {
      "cell_type": "code",
      "source": [
        "# Example Usage\n",
        "myresume = \"\"\"Objective:\n",
        "A creative and detail-oriented Designer with a passion for visual communication and brand identity seeking opportunities to leverage design skills in a dynamic and collaborative environment.\n",
        "\n",
        "Education:\n",
        "- Bachelor of Fine Arts in Graphic Design, XYZ College, GPA: 3.7/4.0\n",
        "- Diploma in Web Design, ABC Institute, GPA: 3.9/4.0\n",
        "\n",
        "Skills:\n",
        "- Proficient in Adobe Creative Suite (Photoshop, Illustrator, InDesign)\n",
        "- Strong understanding of typography, layout, and color theory\n",
        "- Experience in both print and digital design\n",
        "- Ability to conceptualize and execute design projects from concept to completion\n",
        "- Excellent attention to detail and time management skills\n",
        "\n",
        "Experience:\n",
        "Graphic Designer | XYZ Design Studio\n",
        "- Created visually appealing graphics for various marketing materials, including brochures, flyers, and social media posts\n",
        "- Collaborated with clients to understand their design needs and deliver creative solutions that align with their brand identity\n",
        "- Worked closely with the marketing team to ensure consistency in brand messaging across all platforms\n",
        "\n",
        "Freelance Designer\n",
        "- Designed logos, branding materials, and website layouts for small businesses and startups\n",
        "- Managed multiple projects simultaneously while meeting tight deadlines and maintaining quality standards\n",
        "- Established and maintained strong client relationships through clear communication and exceptional service\n",
        "\n",
        "Projects:\n",
        "- Rebranding Campaign for XYZ Company: Led a team to redesign the company's logo, website, and marketing collateral, resulting in a 30% increase in brand recognition\n",
        "- Packaging Design for ABC Product Launch: Developed eye-catching packaging designs for a new product line, contributing to a successful launch and positive customer feedback\n",
        "\n",
        "Certifications:\n",
        "- Adobe Certified Expert (ACE) in Adobe Illustrator\n",
        "- Responsive Web Design Certification from Udemy\n",
        "\n",
        "Languages:\n",
        "- English (Native)\n",
        "- Spanish (Intermediate)\n",
        "\"\"\"\n",
        "pred(myresume)"
      ],
      "metadata": {
        "colab": {
          "base_uri": "https://localhost:8080/",
          "height": 36
        },
        "id": "gV6Wraz5MU96",
        "outputId": "8a0df248-be60-4925-a4ff-54f1b74369d8"
      },
      "execution_count": null,
      "outputs": [
        {
          "output_type": "execute_result",
          "data": {
            "text/plain": [
              "'DESIGNER'"
            ],
            "application/vnd.google.colaboratory.intrinsic+json": {
              "type": "string"
            }
          },
          "metadata": {},
          "execution_count": 29
        }
      ]
    },
    {
      "cell_type": "code",
      "source": [
        "myresume = \"\"\"\n",
        "John Doe is an experienced Network Security Engineer with over 7 years of expertise in designing, implementing, and managing network security infrastructures. Specializing in safeguarding critical network systems, John has worked with various organizations to protect against cyber threats, data breaches, and unauthorized access. He is proficient in deploying firewalls, intrusion detection systems (IDS), VPNs, and network monitoring tools to ensure the integrity and security of networks.\n",
        "\n",
        "John holds a degree in Computer Science and certifications in several cybersecurity domains, including Certified Information Systems Security Professional (CISSP), Certified Ethical Hacker (CEH), and Cisco Certified Network Associate (CCNA). He has extensive experience in troubleshooting and resolving network vulnerabilities, and has played a key role in conducting security audits and risk assessments.\n",
        "\n",
        "Key Skills:\n",
        "- Network Security Architecture\n",
        "- Firewall Management and Configuration\n",
        "- Intrusion Detection and Prevention Systems (IDS/IPS)\n",
        "- Virtual Private Networks (VPNs)\n",
        "- Security Audits and Risk Assessments\n",
        "- Cybersecurity Incident Response\n",
        "- Network Monitoring and Traffic Analysis\n",
        "- Vulnerability Assessment and Penetration Testing\n",
        "- Data Encryption and Secure Communications\n",
        "\n",
        "Certifications:\n",
        "- CISSP (Certified Information Systems Security Professional)\n",
        "- CEH (Certified Ethical Hacker)\n",
        "- CCNA (Cisco Certified Network Associate)\n",
        "- CompTIA Security+\n",
        "\n",
        "Education:\n",
        "BSc in Computer Science, XYZ University, 2012-2016\n",
        "\n",
        "Professional Experience:\n",
        "- Network Security Engineer at ABC Corp (2016-Present)\n",
        "- IT Security Specialist at DEF Solutions (2014-2016)\n",
        "\n",
        "Languages:\n",
        "- English (Fluent)\n",
        "- French (Intermediate)\n",
        "\"\"\"\n",
        "\n",
        "# Now, test the model with the Network Security Engineer-focused resume\n",
        "pred(myresume)\n"
      ],
      "metadata": {
        "colab": {
          "base_uri": "https://localhost:8080/",
          "height": 36
        },
        "id": "NNd-azs90mj3",
        "outputId": "f3dc8bae-c0f0-4f76-8a48-67509d658d25"
      },
      "execution_count": null,
      "outputs": [
        {
          "output_type": "execute_result",
          "data": {
            "text/plain": [
              "'INFORMATION-TECHNOLOGY'"
            ],
            "application/vnd.google.colaboratory.intrinsic+json": {
              "type": "string"
            }
          },
          "metadata": {},
          "execution_count": 30
        }
      ]
    }
  ]
}